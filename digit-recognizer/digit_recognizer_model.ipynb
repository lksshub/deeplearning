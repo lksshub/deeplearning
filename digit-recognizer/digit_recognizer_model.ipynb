{
 "cells": [
  {
   "cell_type": "code",
   "execution_count": null,
   "metadata": {
    "collapsed": true
   },
   "outputs": [],
   "source": [
    "from tensorflow.keras.models import Sequential,Model\n",
    "from tensorflow.keras import layers,Input\n",
    "from tensorflow.keras import optimizers\n",
    "from tensorflow.keras.callbacks import ModelCheckpoint,EarlyStopping"
   ]
  },
  {
   "cell_type": "code",
   "execution_count": null,
   "metadata": {
    "collapsed": true
   },
   "outputs": [],
   "source": [
    "from tensorflow.keras.datasets import mnist\n",
    "mnist=mnist.load_data()\n",
    "\n",
    "(x_train,y_train),(x_test,y_test) = mnist\n",
    "\n",
    "x_train = x_train.reshape((60000,28,28,1))\n",
    "x_train = x_train.astype('float32') / 255\n",
    "\n",
    "x_test = x_test.reshape((10000,28,28,1))\n",
    "x_test = x_test.astype('float32') / 255\n",
    "\n",
    "from tensorflow.keras.utils import to_categorical\n",
    "y_train = to_categorical(y_train)\n",
    "y_test = to_categorical(y_test)"
   ]
  },
  {
   "cell_type": "code",
   "execution_count": null,
   "metadata": {
    "collapsed": true
   },
   "outputs": [],
   "source": [
    "def get_cnn_model_1():\n",
    "    \n",
    "    input_tensor = Input(shape=(28,28,1))\n",
    "\n",
    "    x1 = layers.Conv2D(32,3)(input_tensor)\n",
    "    x1 = layers.BatchNormalization()(x1)\n",
    "    x1 = layers.Activation('relu')(x1)\n",
    "    x1 = layers.Conv2D(64,3)(x1)\n",
    "    x1 = layers.BatchNormalization()(x1)\n",
    "    x1 = layers.Activation('relu')(x1)\n",
    "    x1 = layers.Conv2D(128,3)(x1)\n",
    "    x1 = layers.BatchNormalization()(x1)\n",
    "    x1 = layers.Activation('relu')(x1)\n",
    "    x1 = layers.MaxPool2D(2,strides=2)(x1)\n",
    "    x1 = layers.Conv2D(256,3)(x1)\n",
    "    x1 = layers.BatchNormalization()(x1)\n",
    "    x1 = layers.Activation('relu')(x1)\n",
    "    x1 = layers.MaxPool2D(2,strides=2)(x1)\n",
    "\n",
    "    x1 = layers.Flatten()(x1)\n",
    "\n",
    "    x1 = layers.Dense(64)(x1)\n",
    "    x1 = layers.BatchNormalization()(x1)\n",
    "    x1 = layers.Activation('relu')(x1)\n",
    "\n",
    "    output = layers.Dense(10,activation='softmax')(x1)\n",
    "\n",
    "    model = Model(input_tensor,output)\n",
    "    \n",
    "    model.compile(loss='categorical_crossentropy',\n",
    "             optimizer= optimizers.RMSprop(lr=0.01,decay=0.9),\n",
    "              metrics=['accuracy'])\n",
    "    return model"
   ]
  },
  {
   "cell_type": "code",
   "execution_count": null,
   "metadata": {
    "collapsed": true
   },
   "outputs": [],
   "source": [
    "def get_cnn_model_2():\n",
    "    \n",
    "    input_tensor = Input(shape=(28,28,1))\n",
    "\n",
    "    x1 = layers.Conv2D(32,3)(input_tensor)\n",
    "    x1 = layers.BatchNormalization()(x1)\n",
    "    x1 = layers.Activation('relu')(x1)\n",
    "    x1 = layers.Conv2D(32,3)(x1)\n",
    "    x1 = layers.BatchNormalization()(x1)\n",
    "    x1 = layers.Activation('relu')(x1)\n",
    "    x1 = layers.MaxPool2D(2,strides=2)(x1)\n",
    "\n",
    "    x1 = layers.Conv2D(64,3)(x1)\n",
    "    x1 = layers.BatchNormalization()(x1)\n",
    "    x1 = layers.Activation('relu')(x1)\n",
    "    x1 = layers.Conv2D(128,3)(x1)\n",
    "    x1 = layers.BatchNormalization()(x1)\n",
    "    x1 = layers.Activation('relu')(x1)\n",
    "    x1 = layers.MaxPool2D(2,strides=2)(x1)\n",
    "\n",
    "    x1 = layers.Flatten()(x1)\n",
    "\n",
    "    x1 = layers.Dense(64)(x1)\n",
    "    x1 = layers.BatchNormalization()(x1)\n",
    "    x1 = layers.Activation('relu')(x1)\n",
    "\n",
    "    output = layers.Dense(10,activation='softmax')(x1)\n",
    "\n",
    "    model = Model(input_tensor,output)\n",
    "    \n",
    "    model.compile(loss='categorical_crossentropy',\n",
    "             optimizer= optimizers.RMSprop(lr=0.01,decay=0.9),\n",
    "              metrics=['accuracy'])\n",
    "    return model"
   ]
  },
  {
   "cell_type": "markdown",
   "metadata": {},
   "source": [
    "# training\n"
   ]
  },
  {
   "cell_type": "code",
   "execution_count": null,
   "metadata": {
    "collapsed": true
   },
   "outputs": [],
   "source": [
    "earlystop = EarlyStopping(monitor='acc',\n",
    "                         patience=3)\n",
    "checkpoint = ModelCheckpoint(filepath='weight_dir/weights.{epoch:02d}-{val_loss:.2f}.hdf5',\n",
    "                             monitor='val_loss', \n",
    "                             save_weights_only=True,\n",
    "                             verbose=1,\n",
    "                             save_best_only=True, \n",
    "                             period=1)"
   ]
  },
  {
   "cell_type": "code",
   "execution_count": null,
   "metadata": {
    "collapsed": true
   },
   "outputs": [],
   "source": [
    "model_1 = get_cnn_model_1()\n",
    "model_1.optimizer.lr=0.01\n",
    "history = model.fit(x_train,y_train,epochs=50,batch_size=128,callbacks=[earlystop,checkpoint],\n",
    "                   validation_data=(x_test,y_test)\n",
    "                   )"
   ]
  },
  {
   "cell_type": "code",
   "execution_count": null,
   "metadata": {
    "collapsed": true
   },
   "outputs": [],
   "source": [
    "model_2 = get_cnn_model_2()\n",
    "model_2.optimizer.lr=0.01\n",
    "history = model.fit(x_train,y_train,epochs=50,batch_size=128,callbacks=[earlystop,checkpoint],\n",
    "                   validation_data=(x_test,y_test)\n",
    "                   )"
   ]
  },
  {
   "cell_type": "code",
   "execution_count": null,
   "metadata": {
    "collapsed": true
   },
   "outputs": [],
   "source": []
  },
  {
   "cell_type": "code",
   "execution_count": null,
   "metadata": {
    "collapsed": true
   },
   "outputs": [],
   "source": []
  },
  {
   "cell_type": "code",
   "execution_count": null,
   "metadata": {
    "collapsed": true
   },
   "outputs": [],
   "source": []
  },
  {
   "cell_type": "markdown",
   "metadata": {},
   "source": [
    "# predicte\n"
   ]
  },
  {
   "cell_type": "code",
   "execution_count": null,
   "metadata": {
    "collapsed": true
   },
   "outputs": [],
   "source": [
    "model_1 = get_cnn_model_1()\n",
    "model_1.load_weights('weight_dir_5/weights.05-0.03.hdf5')\n",
    "model_2 = get_cnn_model_2()\n",
    "model_2.load_weights('weight_dir_5/weights.05-0.03.hdf5')"
   ]
  },
  {
   "cell_type": "code",
   "execution_count": null,
   "metadata": {
    "collapsed": true
   },
   "outputs": [],
   "source": [
    "prediction_1 = model_1.predict(x_test,batch_size=128,verbose=1)\n",
    "prediction_2 = model_2.predict(x_test,batch_size=128,verbose=1)"
   ]
  },
  {
   "cell_type": "code",
   "execution_count": null,
   "metadata": {
    "collapsed": true
   },
   "outputs": [],
   "source": [
    "prediction = 0.5*prediction_1 + 0.5*prediction_2"
   ]
  },
  {
   "cell_type": "code",
   "execution_count": null,
   "metadata": {
    "collapsed": true
   },
   "outputs": [],
   "source": [
    "submission = pd.concat([pd.Series(range(1,28001),name = \"ImageId\"),prediction],axis = 1)\n",
    "submission.to_csv(\"cnn_mnist_datagen_2.csv\",index=False)"
   ]
  }
 ],
 "metadata": {
  "kernelspec": {
   "display_name": "Python 3",
   "language": "python",
   "name": "python3"
  },
  "language_info": {
   "codemirror_mode": {
    "name": "ipython",
    "version": 3
   },
   "file_extension": ".py",
   "mimetype": "text/x-python",
   "name": "python",
   "nbconvert_exporter": "python",
   "pygments_lexer": "ipython3",
   "version": "3.6.0"
  }
 },
 "nbformat": 4,
 "nbformat_minor": 2
}
