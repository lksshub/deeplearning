{
 "cells": [
  {
   "cell_type": "code",
   "execution_count": null,
   "metadata": {
    "collapsed": true
   },
   "outputs": [],
   "source": [
    "import model\n",
    "import pre-processing\n",
    "\n",
    "from tensorflow.keras import optimizers\n",
    "from tensorflow.keras.callbacks import ModelCheckpoint,EarlyStopping,ReduceLROnPlateau,TensorBoard\n"
   ]
  },
  {
   "cell_type": "code",
   "execution_count": null,
   "metadata": {
    "collapsed": true
   },
   "outputs": [],
   "source": [
    "model = get_cnn_model_1()"
   ]
  },
  {
   "cell_type": "code",
   "execution_count": null,
   "metadata": {
    "collapsed": true
   },
   "outputs": [],
   "source": [
    "(train_gen,val_gen,test_gen) = get_data_gen()"
   ]
  },
  {
   "cell_type": "code",
   "execution_count": null,
   "metadata": {
    "collapsed": true
   },
   "outputs": [],
   "source": [
    "#编译模型\n",
    "model.compile(loss='binary_crossentropy',\n",
    "             optimizer=optimizers.RMSprop(lr=1e-5),\n",
    "             metrics=['accuracy'],\n",
    "             )\n",
    "\n",
    "checkpoint = ModelCheckpoint(filepath='weight_dir/weights.{epoch:02d}-{val_loss:.2f}.hdf5',\n",
    "                             monitor='val_loss', \n",
    "                             save_weights_only=True,\n",
    "                             verbose=1,\n",
    "                             save_best_only=True, \n",
    "                             period=1)\n",
    "earlystopping = EarlyStopping(monitor='acc',\n",
    "                              patience=3)\n",
    "reducelr = ReduceLROnPlateau(monitor='val_loss', \n",
    "                            factor=0.5,\n",
    "                            patience=10)\n",
    "\n",
    "\n",
    "# 按批次训练模型\n",
    "history = model.fit_generator(generator=train_gen,\n",
    "                             steps_per_epoch=train_steps,              \n",
    "                             validation_data=val_gen,\n",
    "                             validation_steps=val_steps,\n",
    "                             callbacks=[checkpoint,earlystopping,reducelr], \n",
    "                             epochs=30,\n",
    "                             )"
   ]
  }
 ],
 "metadata": {
  "kernelspec": {
   "display_name": "Python 3",
   "language": "python",
   "name": "python3"
  },
  "language_info": {
   "codemirror_mode": {
    "name": "ipython",
    "version": 3
   },
   "file_extension": ".py",
   "mimetype": "text/x-python",
   "name": "python",
   "nbconvert_exporter": "python",
   "pygments_lexer": "ipython3",
   "version": "3.6.8"
  }
 },
 "nbformat": 4,
 "nbformat_minor": 2
}
